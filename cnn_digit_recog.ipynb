{
  "nbformat": 4,
  "nbformat_minor": 0,
  "metadata": {
    "colab": {
      "name": "cnn_digit_recog.ipynb",
      "provenance": [],
      "collapsed_sections": [],
      "authorship_tag": "ABX9TyONv148tW+Rvr0VRtV4ATKW",
      "include_colab_link": false
    },
    "kernelspec": {
      "name": "python3",
      "display_name": "Python 3"
    }
  },
  "cells": [
    {
      "cell_type": "markdown",
      "metadata": {
        "id": "view-in-github",
        "colab_type": "text"
      },
      "source": [
        "<a href=\"https://colab.research.google.com/github/kisaaga/ml_exercising/blob/master/cnn_digit_recog.ipynb\" target=\"_parent\"><img src=\"https://colab.research.google.com/assets/colab-badge.svg\" alt=\"Open In Colab\"/></a>"
      ]
    },
    {
      "cell_type": "markdown",
      "metadata": {
        "id": "UMfFvuihnmIW",
        "colab_type": "text"
      },
      "source": [
        "#Digit Recognition using Convolutional Neural Network"
      ]
    },
    {
      "cell_type": "code",
      "metadata": {
        "id": "QLSeampCniyj",
        "colab_type": "code",
        "colab": {}
      },
      "source": [
        "import tensorflow as tf\n",
        "from tensorflow.keras.models import Sequential\n",
        "from tensorflow.keras.layers import Dense, Conv2D, Flatten, Dropout, MaxPooling2D\n",
        "import matplotlib.pyplot as plt\n",
        "import seaborn as sn\n",
        "import numpy as np\n",
        "import pandas as pd\n",
        "import platform"
      ],
      "execution_count": 0,
      "outputs": []
    },
    {
      "cell_type": "code",
      "metadata": {
        "id": "bS-rJu6roHHj",
        "colab_type": "code",
        "outputId": "a03f925d-6a82-4afd-a9b5-383ee549e90d",
        "colab": {
          "base_uri": "https://localhost:8080/",
          "height": 50
        }
      },
      "source": [
        "mnist_data = tf.keras.datasets.mnist\n",
        "train, test = mnist_data.load_data()"
      ],
      "execution_count": 0,
      "outputs": [
        {
          "output_type": "stream",
          "text": [
            "Downloading data from https://storage.googleapis.com/tensorflow/tf-keras-datasets/mnist.npz\n",
            "11493376/11490434 [==============================] - 0s 0us/step\n"
          ],
          "name": "stdout"
        }
      ]
    },
    {
      "cell_type": "code",
      "metadata": {
        "id": "5i-7w_JOqXNO",
        "colab_type": "code",
        "colab": {}
      },
      "source": [
        "X_train, y_train = train\n",
        "X_test, y_test = test"
      ],
      "execution_count": 0,
      "outputs": []
    },
    {
      "cell_type": "code",
      "metadata": {
        "id": "M6bPfWAgqaln",
        "colab_type": "code",
        "outputId": "73c20445-fe2c-497f-8d1d-a8293ff27424",
        "colab": {
          "base_uri": "https://localhost:8080/",
          "height": 50
        }
      },
      "source": [
        "print(X_train.shape)\n",
        "print(X_test.shape)"
      ],
      "execution_count": 0,
      "outputs": [
        {
          "output_type": "stream",
          "text": [
            "(60000, 28, 28)\n",
            "(10000, 28, 28)\n"
          ],
          "name": "stdout"
        }
      ]
    },
    {
      "cell_type": "markdown",
      "metadata": {
        "id": "c7Xzch5yrAhx",
        "colab_type": "text"
      },
      "source": [
        "We see that, image size = 28 x 28\n",
        "\n",
        "Train data size = 60,000\n",
        "\n",
        "Test data size = 10,000"
      ]
    },
    {
      "cell_type": "markdown",
      "metadata": {
        "id": "SUZJvqsErZS5",
        "colab_type": "text"
      },
      "source": [
        "Example drawing of an image"
      ]
    },
    {
      "cell_type": "code",
      "metadata": {
        "id": "4O6Gc66_qtq9",
        "colab_type": "code",
        "outputId": "d17be052-0d3b-495f-dbe9-c98d8355526d",
        "colab": {
          "base_uri": "https://localhost:8080/",
          "height": 201
        }
      },
      "source": [
        "print('Some digits in the datatset:\\n')\n",
        "plt.figure(figsize=(15,10))\n",
        "plt.xticks([])\n",
        "plt.yticks([])\n",
        "plt.subplot(5, 5, 1)\n",
        "plt.imshow(X_train[0], cmap=plt.cm.binary)\n",
        "plt.xlabel(y_train[0], {'size': 20})\n",
        "plt.subplot(5, 5, 2)\n",
        "plt.imshow(X_train[1], cmap=plt.cm.binary)\n",
        "plt.xlabel(y_train[1], {'size': 20})\n",
        "plt.subplot(5, 5, 3)\n",
        "plt.imshow(X_train[2], cmap=plt.cm.binary)\n",
        "plt.xlabel(y_train[2], {'size': 20})\n",
        "plt.subplot(5, 5, 4)\n",
        "plt.imshow(X_train[3], cmap=plt.cm.binary)\n",
        "plt.xlabel(y_train[3], {'size': 20})\n",
        "plt.subplot(5, 5, 5)\n",
        "plt.imshow(X_train[4], cmap=plt.cm.binary)\n",
        "plt.xlabel(y_train[4], {'size': 20})\n",
        "plt.show()"
      ],
      "execution_count": 0,
      "outputs": [
        {
          "output_type": "stream",
          "text": [
            "Some digits in the datatset:\n",
            "\n"
          ],
          "name": "stdout"
        },
        {
          "output_type": "display_data",
          "data": {
            "image/png": "[encoded data removed]",
            "text/plain": [
              "<Figure size 1080x720 with 5 Axes>"
            ]
          },
          "metadata": {
            "tags": [],
            "needs_background": "light"
          }
        }
      ]
    },
    {
      "cell_type": "code",
      "metadata": {
        "id": "ShCFaHI2rWDu",
        "colab_type": "code",
        "outputId": "103aeff6-2879-4dff-f40e-8396b057bd38",
        "colab": {
          "base_uri": "https://localhost:8080/",
          "height": 34
        }
      },
      "source": [
        "X_train.shape"
      ],
      "execution_count": 0,
      "outputs": [
        {
          "output_type": "execute_result",
          "data": {
            "text/plain": [
              "(60000, 28, 28)"
            ]
          },
          "metadata": {
            "tags": []
          },
          "execution_count": 48
        }
      ]
    },
    {
      "cell_type": "code",
      "metadata": {
        "id": "1vjyVd81vBzi",
        "colab_type": "code",
        "outputId": "b3f3d955-ffb1-4b33-b3c3-61bad07f6369",
        "colab": {
          "base_uri": "https://localhost:8080/",
          "height": 1000
        }
      },
      "source": [
        "X_train[0]"
      ],
      "execution_count": 0,
      "outputs": [
        {
          "output_type": "execute_result",
          "data": {
            "text/plain": [
              "array([[  0,   0,   0,   0,   0,   0,   0,   0,   0,   0,   0,   0,   0,\n",
              "          0,   0,   0,   0,   0,   0,   0,   0,   0,   0,   0,   0,   0,\n",
              "          0,   0],\n",
              "       [  0,   0,   0,   0,   0,   0,   0,   0,   0,   0,   0,   0,   0,\n",
              "          0,   0,   0,   0,   0,   0,   0,   0,   0,   0,   0,   0,   0,\n",
              "          0,   0],\n",
              "       [  0,   0,   0,   0,   0,   0,   0,   0,   0,   0,   0,   0,   0,\n",
              "          0,   0,   0,   0,   0,   0,   0,   0,   0,   0,   0,   0,   0,\n",
              "          0,   0],\n",
              "       [  0,   0,   0,   0,   0,   0,   0,   0,   0,   0,   0,   0,   0,\n",
              "          0,   0,   0,   0,   0,   0,   0,   0,   0,   0,   0,   0,   0,\n",
              "          0,   0],\n",
              "       [  0,   0,   0,   0,   0,   0,   0,   0,   0,   0,   0,   0,   0,\n",
              "          0,   0,   0,   0,   0,   0,   0,   0,   0,   0,   0,   0,   0,\n",
              "          0,   0],\n",
              "       [  0,   0,   0,   0,   0,   0,   0,   0,   0,   0,   0,   0,   3,\n",
              "         18,  18,  18, 126, 136, 175,  26, 166, 255, 247, 127,   0,   0,\n",
              "          0,   0],\n",
              "       [  0,   0,   0,   0,   0,   0,   0,   0,  30,  36,  94, 154, 170,\n",
              "        253, 253, 253, 253, 253, 225, 172, 253, 242, 195,  64,   0,   0,\n",
              "          0,   0],\n",
              "       [  0,   0,   0,   0,   0,   0,   0,  49, 238, 253, 253, 253, 253,\n",
              "        253, 253, 253, 253, 251,  93,  82,  82,  56,  39,   0,   0,   0,\n",
              "          0,   0],\n",
              "       [  0,   0,   0,   0,   0,   0,   0,  18, 219, 253, 253, 253, 253,\n",
              "        253, 198, 182, 247, 241,   0,   0,   0,   0,   0,   0,   0,   0,\n",
              "          0,   0],\n",
              "       [  0,   0,   0,   0,   0,   0,   0,   0,  80, 156, 107, 253, 253,\n",
              "        205,  11,   0,  43, 154,   0,   0,   0,   0,   0,   0,   0,   0,\n",
              "          0,   0],\n",
              "       [  0,   0,   0,   0,   0,   0,   0,   0,   0,  14,   1, 154, 253,\n",
              "         90,   0,   0,   0,   0,   0,   0,   0,   0,   0,   0,   0,   0,\n",
              "          0,   0],\n",
              "       [  0,   0,   0,   0,   0,   0,   0,   0,   0,   0,   0, 139, 253,\n",
              "        190,   2,   0,   0,   0,   0,   0,   0,   0,   0,   0,   0,   0,\n",
              "          0,   0],\n",
              "       [  0,   0,   0,   0,   0,   0,   0,   0,   0,   0,   0,  11, 190,\n",
              "        253,  70,   0,   0,   0,   0,   0,   0,   0,   0,   0,   0,   0,\n",
              "          0,   0],\n",
              "       [  0,   0,   0,   0,   0,   0,   0,   0,   0,   0,   0,   0,  35,\n",
              "        241, 225, 160, 108,   1,   0,   0,   0,   0,   0,   0,   0,   0,\n",
              "          0,   0],\n",
              "       [  0,   0,   0,   0,   0,   0,   0,   0,   0,   0,   0,   0,   0,\n",
              "         81, 240, 253, 253, 119,  25,   0,   0,   0,   0,   0,   0,   0,\n",
              "          0,   0],\n",
              "       [  0,   0,   0,   0,   0,   0,   0,   0,   0,   0,   0,   0,   0,\n",
              "          0,  45, 186, 253, 253, 150,  27,   0,   0,   0,   0,   0,   0,\n",
              "          0,   0],\n",
              "       [  0,   0,   0,   0,   0,   0,   0,   0,   0,   0,   0,   0,   0,\n",
              "          0,   0,  16,  93, 252, 253, 187,   0,   0,   0,   0,   0,   0,\n",
              "          0,   0],\n",
              "       [  0,   0,   0,   0,   0,   0,   0,   0,   0,   0,   0,   0,   0,\n",
              "          0,   0,   0,   0, 249, 253, 249,  64,   0,   0,   0,   0,   0,\n",
              "          0,   0],\n",
              "       [  0,   0,   0,   0,   0,   0,   0,   0,   0,   0,   0,   0,   0,\n",
              "          0,  46, 130, 183, 253, 253, 207,   2,   0,   0,   0,   0,   0,\n",
              "          0,   0],\n",
              "       [  0,   0,   0,   0,   0,   0,   0,   0,   0,   0,   0,   0,  39,\n",
              "        148, 229, 253, 253, 253, 250, 182,   0,   0,   0,   0,   0,   0,\n",
              "          0,   0],\n",
              "       [  0,   0,   0,   0,   0,   0,   0,   0,   0,   0,  24, 114, 221,\n",
              "        253, 253, 253, 253, 201,  78,   0,   0,   0,   0,   0,   0,   0,\n",
              "          0,   0],\n",
              "       [  0,   0,   0,   0,   0,   0,   0,   0,  23,  66, 213, 253, 253,\n",
              "        253, 253, 198,  81,   2,   0,   0,   0,   0,   0,   0,   0,   0,\n",
              "          0,   0],\n",
              "       [  0,   0,   0,   0,   0,   0,  18, 171, 219, 253, 253, 253, 253,\n",
              "        195,  80,   9,   0,   0,   0,   0,   0,   0,   0,   0,   0,   0,\n",
              "          0,   0],\n",
              "       [  0,   0,   0,   0,  55, 172, 226, 253, 253, 253, 253, 244, 133,\n",
              "         11,   0,   0,   0,   0,   0,   0,   0,   0,   0,   0,   0,   0,\n",
              "          0,   0],\n",
              "       [  0,   0,   0,   0, 136, 253, 253, 253, 212, 135, 132,  16,   0,\n",
              "          0,   0,   0,   0,   0,   0,   0,   0,   0,   0,   0,   0,   0,\n",
              "          0,   0],\n",
              "       [  0,   0,   0,   0,   0,   0,   0,   0,   0,   0,   0,   0,   0,\n",
              "          0,   0,   0,   0,   0,   0,   0,   0,   0,   0,   0,   0,   0,\n",
              "          0,   0],\n",
              "       [  0,   0,   0,   0,   0,   0,   0,   0,   0,   0,   0,   0,   0,\n",
              "          0,   0,   0,   0,   0,   0,   0,   0,   0,   0,   0,   0,   0,\n",
              "          0,   0],\n",
              "       [  0,   0,   0,   0,   0,   0,   0,   0,   0,   0,   0,   0,   0,\n",
              "          0,   0,   0,   0,   0,   0,   0,   0,   0,   0,   0,   0,   0,\n",
              "          0,   0]], dtype=uint8)"
            ]
          },
          "metadata": {
            "tags": []
          },
          "execution_count": 49
        }
      ]
    },
    {
      "cell_type": "code",
      "metadata": {
        "id": "AiJfWyYky9hS",
        "colab_type": "code",
        "colab": {}
      },
      "source": [
        "X_train = X_train.reshape(X_train.shape[0], 28, 28, 1)\n",
        "X_test = X_test.reshape(X_test.shape[0], 28, 28, 1)"
      ],
      "execution_count": 0,
      "outputs": []
    },
    {
      "cell_type": "code",
      "metadata": {
        "id": "R9lrlrDwvXNd",
        "colab_type": "code",
        "colab": {}
      },
      "source": [
        "model = Sequential()\n",
        "\n",
        "model.add(Conv2D(\n",
        "    input_shape=(28, 28, 1),\n",
        "    kernel_size=5,\n",
        "    filters=8,\n",
        "    strides=1,\n",
        "    activation='relu',\n",
        "    kernel_initializer=tf.keras.initializers.VarianceScaling()\n",
        "))\n",
        "\n",
        "model.add(MaxPooling2D(\n",
        "    pool_size=(2, 2),\n",
        "    strides=(2, 2)\n",
        "))\n",
        "\n",
        "model.add(Conv2D(\n",
        "    kernel_size=5,\n",
        "    filters=16,\n",
        "    strides=1,\n",
        "    activation='relu',\n",
        "    kernel_initializer=tf.keras.initializers.VarianceScaling()\n",
        "))\n",
        "\n",
        "model.add(MaxPooling2D(\n",
        "    pool_size=(2, 2),\n",
        "    strides=(2, 2)\n",
        "))\n",
        "\n",
        "model.add(Flatten())\n",
        "\n",
        "model.add(Dense(\n",
        "    units=128,\n",
        "    activation='relu'\n",
        "));\n",
        "\n",
        "model.add(Dropout(0.2))\n",
        "\n",
        "model.add(Dense(\n",
        "    units=10,\n",
        "    activation='softmax',\n",
        "    kernel_initializer=tf.keras.initializers.VarianceScaling()\n",
        "))"
      ],
      "execution_count": 0,
      "outputs": []
    },
    {
      "cell_type": "code",
      "metadata": {
        "id": "9xRx8blDxM8x",
        "colab_type": "code",
        "outputId": "60c923e0-3fdc-4d49-f370-02b6a1316219",
        "colab": {
          "base_uri": "https://localhost:8080/",
          "height": 420
        }
      },
      "source": [
        "model.summary()"
      ],
      "execution_count": 0,
      "outputs": [
        {
          "output_type": "stream",
          "text": [
            "Model: \"sequential_5\"\n",
            "_________________________________________________________________\n",
            "Layer (type)                 Output Shape              Param #   \n",
            "=================================================================\n",
            "conv2d_7 (Conv2D)            (None, 24, 24, 8)         208       \n",
            "_________________________________________________________________\n",
            "max_pooling2d_6 (MaxPooling2 (None, 12, 12, 8)         0         \n",
            "_________________________________________________________________\n",
            "conv2d_8 (Conv2D)            (None, 8, 8, 16)          3216      \n",
            "_________________________________________________________________\n",
            "max_pooling2d_7 (MaxPooling2 (None, 4, 4, 16)          0         \n",
            "_________________________________________________________________\n",
            "flatten_3 (Flatten)          (None, 256)               0         \n",
            "_________________________________________________________________\n",
            "dense_6 (Dense)              (None, 128)               32896     \n",
            "_________________________________________________________________\n",
            "dropout_3 (Dropout)          (None, 128)               0         \n",
            "_________________________________________________________________\n",
            "dense_7 (Dense)              (None, 10)                1290      \n",
            "=================================================================\n",
            "Total params: 37,610\n",
            "Trainable params: 37,610\n",
            "Non-trainable params: 0\n",
            "_________________________________________________________________\n"
          ],
          "name": "stdout"
        }
      ]
    },
    {
      "cell_type": "code",
      "metadata": {
        "id": "CoRpOzUkxOeF",
        "colab_type": "code",
        "colab": {}
      },
      "source": [
        "model.compile(\n",
        "    optimizer=tf.keras.optimizers.Adam(learning_rate=0.001),\n",
        "    loss='sparse_categorical_crossentropy',\n",
        "    metrics=['accuracy']\n",
        ")"
      ],
      "execution_count": 0,
      "outputs": []
    },
    {
      "cell_type": "code",
      "metadata": {
        "id": "wZWxy_sZx1uC",
        "colab_type": "code",
        "outputId": "0521afbc-2c7a-4b8b-e6a5-469d54a718fa",
        "colab": {
          "base_uri": "https://localhost:8080/",
          "height": 353
        }
      },
      "source": [
        "training_history = model.fit(\n",
        "    X_train,\n",
        "    y_train,\n",
        "    epochs=10,\n",
        "    validation_data=(X_test, y_test)\n",
        ")"
      ],
      "execution_count": 0,
      "outputs": [
        {
          "output_type": "stream",
          "text": [
            "Epoch 1/10\n",
            "1875/1875 [==============================] - 30s 16ms/step - loss: 1.5637 - accuracy: 0.8378 - val_loss: 0.2063 - val_accuracy: 0.9446\n",
            "Epoch 2/10\n",
            "1875/1875 [==============================] - 30s 16ms/step - loss: 0.2062 - accuracy: 0.9394 - val_loss: 0.1160 - val_accuracy: 0.9687\n",
            "Epoch 3/10\n",
            "1875/1875 [==============================] - 30s 16ms/step - loss: 0.1473 - accuracy: 0.9579 - val_loss: 0.1140 - val_accuracy: 0.9680\n",
            "Epoch 4/10\n",
            "1875/1875 [==============================] - 29s 16ms/step - loss: 0.1152 - accuracy: 0.9660 - val_loss: 0.0740 - val_accuracy: 0.9790\n",
            "Epoch 5/10\n",
            "1875/1875 [==============================] - 29s 16ms/step - loss: 0.0942 - accuracy: 0.9733 - val_loss: 0.0576 - val_accuracy: 0.9833\n",
            "Epoch 6/10\n",
            "1875/1875 [==============================] - 29s 16ms/step - loss: 0.0834 - accuracy: 0.9767 - val_loss: 0.0653 - val_accuracy: 0.9830\n",
            "Epoch 7/10\n",
            "1875/1875 [==============================] - 29s 16ms/step - loss: 0.0772 - accuracy: 0.9778 - val_loss: 0.0655 - val_accuracy: 0.9836\n",
            "Epoch 8/10\n",
            "1875/1875 [==============================] - 30s 16ms/step - loss: 0.0651 - accuracy: 0.9822 - val_loss: 0.0603 - val_accuracy: 0.9847\n",
            "Epoch 9/10\n",
            "1875/1875 [==============================] - 29s 16ms/step - loss: 0.0617 - accuracy: 0.9825 - val_loss: 0.0562 - val_accuracy: 0.9868\n",
            "Epoch 10/10\n",
            "1875/1875 [==============================] - 29s 16ms/step - loss: 0.0635 - accuracy: 0.9825 - val_loss: 0.0475 - val_accuracy: 0.9867\n"
          ],
          "name": "stdout"
        }
      ]
    },
    {
      "cell_type": "code",
      "metadata": {
        "id": "lt_VR_9xyobc",
        "colab_type": "code",
        "outputId": "f09afa71-d301-4751-c428-d78e8fa6d06e",
        "colab": {
          "base_uri": "https://localhost:8080/",
          "height": 296
        }
      },
      "source": [
        "plt.xlabel('Epoch Number')\n",
        "plt.ylabel('Loss')\n",
        "plt.plot(training_history.history['loss'], label='training set')\n",
        "plt.plot(training_history.history['val_loss'], label='test set')\n",
        "plt.legend()"
      ],
      "execution_count": 0,
      "outputs": [
        {
          "output_type": "execute_result",
          "data": {
            "text/plain": [
              "<matplotlib.legend.Legend at 0x7fa3ce11dd68>"
            ]
          },
          "metadata": {
            "tags": []
          },
          "execution_count": 67
        },
        {
          "output_type": "display_data",
          "data": {
            "image/png": "[encoded data removed]",
            "text/plain": [
              "<Figure size 432x288 with 1 Axes>"
            ]
          },
          "metadata": {
            "tags": [],
            "needs_background": "light"
          }
        }
      ]
    },
    {
      "cell_type": "markdown",
      "metadata": {
        "id": "PxtHuOlZ1EX_",
        "colab_type": "text"
      },
      "source": [
        "##Evaluating the Model"
      ]
    },
    {
      "cell_type": "code",
      "metadata": {
        "id": "RiezgQui1H22",
        "colab_type": "code",
        "outputId": "ef463304-cb36-4250-ec04-52af0e1baba6",
        "colab": {
          "base_uri": "https://localhost:8080/",
          "height": 34
        }
      },
      "source": [
        "train_loss, train_accuracy = model.evaluate(X_train, y_train)"
      ],
      "execution_count": 0,
      "outputs": [
        {
          "output_type": "stream",
          "text": [
            "1875/1875 [==============================] - 15s 8ms/step - loss: 0.0299 - accuracy: 0.9906\n"
          ],
          "name": "stdout"
        }
      ]
    },
    {
      "cell_type": "code",
      "metadata": {
        "id": "wkSSOrMe1SAq",
        "colab_type": "code",
        "outputId": "e938a3ed-d04a-46f1-851b-2001bcece505",
        "colab": {
          "base_uri": "https://localhost:8080/",
          "height": 50
        }
      },
      "source": [
        "print('Training loss: ', train_loss)\n",
        "print('Training accuracy: ', train_accuracy)"
      ],
      "execution_count": 0,
      "outputs": [
        {
          "output_type": "stream",
          "text": [
            "Training loss:  0.029896678403019905\n",
            "Training accuracy:  0.9906333088874817\n"
          ],
          "name": "stdout"
        }
      ]
    },
    {
      "cell_type": "code",
      "metadata": {
        "id": "_xvkMrSh1YM8",
        "colab_type": "code",
        "outputId": "1f93c6b2-277c-4af1-a927-208c15f73f1b",
        "colab": {
          "base_uri": "https://localhost:8080/",
          "height": 34
        }
      },
      "source": [
        "validation_loss, validation_accuracy = model.evaluate(X_test, y_test)"
      ],
      "execution_count": 0,
      "outputs": [
        {
          "output_type": "stream",
          "text": [
            "313/313 [==============================] - 2s 7ms/step - loss: 0.0475 - accuracy: 0.9867\n"
          ],
          "name": "stdout"
        }
      ]
    },
    {
      "cell_type": "code",
      "metadata": {
        "id": "XoSfyup01cuW",
        "colab_type": "code",
        "outputId": "1203d83a-9740-41ec-a541-bdbb6e6ac961",
        "colab": {
          "base_uri": "https://localhost:8080/",
          "height": 50
        }
      },
      "source": [
        "print('Validation loss: ', validation_loss)\n",
        "print('Validation accuracy: ', validation_accuracy)"
      ],
      "execution_count": 0,
      "outputs": [
        {
          "output_type": "stream",
          "text": [
            "Validation loss:  0.04749665409326553\n",
            "Validation accuracy:  0.9866999983787537\n"
          ],
          "name": "stdout"
        }
      ]
    },
    {
      "cell_type": "markdown",
      "metadata": {
        "id": "IJh44fHp1get",
        "colab_type": "text"
      },
      "source": [
        "Saving the model:"
      ]
    },
    {
      "cell_type": "code",
      "metadata": {
        "id": "fOsNFgXz1dA6",
        "colab_type": "code",
        "colab": {}
      },
      "source": [
        "model_name = 'cnn_dig_recog.h5'\n",
        "model.save(model_name, save_format='h5')"
      ],
      "execution_count": 0,
      "outputs": []
    },
    {
      "cell_type": "code",
      "metadata": {
        "id": "7lmkynsm1klT",
        "colab_type": "code",
        "colab": {}
      },
      "source": [
        "loaded_model = tf.keras.models.load_model(model_name)"
      ],
      "execution_count": 0,
      "outputs": []
    },
    {
      "cell_type": "code",
      "metadata": {
        "id": "2Y6LxxAN1nqq",
        "colab_type": "code",
        "outputId": "560edbb1-c72c-41b5-9af2-a73cb0614619",
        "colab": {
          "base_uri": "https://localhost:8080/",
          "height": 402
        }
      },
      "source": [
        "prediction = loaded_model.predict(X_test)\n",
        "pd.DataFrame(prediction)"
      ],
      "execution_count": 0,
      "outputs": [
        {
          "output_type": "execute_result",
          "data": {
            "text/html": [
              "<div>\n",
              "<style scoped>\n",
              "    .dataframe tbody tr th:only-of-type {\n",
              "        vertical-align: middle;\n",
              "    }\n",
              "\n",
              "    .dataframe tbody tr th {\n",
              "        vertical-align: top;\n",
              "    }\n",
              "\n",
              "    .dataframe thead th {\n",
              "        text-align: right;\n",
              "    }\n",
              "</style>\n",
              "<table border=\"1\" class=\"dataframe\">\n",
              "  <thead>\n",
              "    <tr style=\"text-align: right;\">\n",
              "      <th></th>\n",
              "      <th>0</th>\n",
              "      <th>1</th>\n",
              "      <th>2</th>\n",
              "      <th>3</th>\n",
              "      <th>4</th>\n",
              "      <th>5</th>\n",
              "      <th>6</th>\n",
              "      <th>7</th>\n",
              "      <th>8</th>\n",
              "      <th>9</th>\n",
              "    </tr>\n",
              "  </thead>\n",
              "  <tbody>\n",
              "    <tr>\n",
              "      <th>0</th>\n",
              "      <td>8.327863e-21</td>\n",
              "      <td>5.579035e-10</td>\n",
              "      <td>5.294920e-08</td>\n",
              "      <td>2.284180e-09</td>\n",
              "      <td>6.310535e-11</td>\n",
              "      <td>3.197511e-15</td>\n",
              "      <td>3.408720e-24</td>\n",
              "      <td>1.000000e+00</td>\n",
              "      <td>1.589753e-12</td>\n",
              "      <td>1.093798e-09</td>\n",
              "    </tr>\n",
              "    <tr>\n",
              "      <th>1</th>\n",
              "      <td>2.729155e-19</td>\n",
              "      <td>6.040607e-14</td>\n",
              "      <td>1.000000e+00</td>\n",
              "      <td>1.178692e-16</td>\n",
              "      <td>6.948323e-21</td>\n",
              "      <td>1.539567e-27</td>\n",
              "      <td>3.081532e-16</td>\n",
              "      <td>1.795800e-12</td>\n",
              "      <td>3.536597e-22</td>\n",
              "      <td>8.398071e-23</td>\n",
              "    </tr>\n",
              "    <tr>\n",
              "      <th>2</th>\n",
              "      <td>1.508319e-14</td>\n",
              "      <td>9.999998e-01</td>\n",
              "      <td>8.875729e-12</td>\n",
              "      <td>2.254077e-14</td>\n",
              "      <td>2.492974e-08</td>\n",
              "      <td>1.977226e-13</td>\n",
              "      <td>1.400867e-11</td>\n",
              "      <td>1.788254e-07</td>\n",
              "      <td>1.481595e-08</td>\n",
              "      <td>3.916479e-10</td>\n",
              "    </tr>\n",
              "    <tr>\n",
              "      <th>3</th>\n",
              "      <td>9.999985e-01</td>\n",
              "      <td>2.303715e-18</td>\n",
              "      <td>3.191196e-10</td>\n",
              "      <td>7.387664e-15</td>\n",
              "      <td>5.417070e-14</td>\n",
              "      <td>8.479593e-13</td>\n",
              "      <td>1.568836e-06</td>\n",
              "      <td>3.110544e-13</td>\n",
              "      <td>7.002119e-12</td>\n",
              "      <td>1.386858e-10</td>\n",
              "    </tr>\n",
              "    <tr>\n",
              "      <th>4</th>\n",
              "      <td>5.377885e-13</td>\n",
              "      <td>2.021620e-10</td>\n",
              "      <td>1.163019e-07</td>\n",
              "      <td>2.972782e-14</td>\n",
              "      <td>9.996006e-01</td>\n",
              "      <td>1.422218e-12</td>\n",
              "      <td>2.169556e-14</td>\n",
              "      <td>3.925261e-11</td>\n",
              "      <td>1.482408e-08</td>\n",
              "      <td>3.993543e-04</td>\n",
              "    </tr>\n",
              "    <tr>\n",
              "      <th>...</th>\n",
              "      <td>...</td>\n",
              "      <td>...</td>\n",
              "      <td>...</td>\n",
              "      <td>...</td>\n",
              "      <td>...</td>\n",
              "      <td>...</td>\n",
              "      <td>...</td>\n",
              "      <td>...</td>\n",
              "      <td>...</td>\n",
              "      <td>...</td>\n",
              "    </tr>\n",
              "    <tr>\n",
              "      <th>9995</th>\n",
              "      <td>9.447169e-24</td>\n",
              "      <td>1.364602e-12</td>\n",
              "      <td>9.999996e-01</td>\n",
              "      <td>3.290113e-14</td>\n",
              "      <td>1.934882e-21</td>\n",
              "      <td>4.786362e-27</td>\n",
              "      <td>8.509514e-24</td>\n",
              "      <td>3.004671e-07</td>\n",
              "      <td>1.825826e-21</td>\n",
              "      <td>4.240878e-23</td>\n",
              "    </tr>\n",
              "    <tr>\n",
              "      <th>9996</th>\n",
              "      <td>9.103831e-21</td>\n",
              "      <td>6.801298e-13</td>\n",
              "      <td>1.557953e-11</td>\n",
              "      <td>1.000000e+00</td>\n",
              "      <td>9.522388e-25</td>\n",
              "      <td>1.019134e-08</td>\n",
              "      <td>5.845913e-16</td>\n",
              "      <td>2.013212e-12</td>\n",
              "      <td>1.102786e-14</td>\n",
              "      <td>7.294611e-17</td>\n",
              "    </tr>\n",
              "    <tr>\n",
              "      <th>9997</th>\n",
              "      <td>1.034949e-29</td>\n",
              "      <td>6.108519e-16</td>\n",
              "      <td>1.749627e-15</td>\n",
              "      <td>1.048145e-19</td>\n",
              "      <td>1.000000e+00</td>\n",
              "      <td>3.894344e-20</td>\n",
              "      <td>1.233394e-23</td>\n",
              "      <td>1.394514e-15</td>\n",
              "      <td>5.650100e-17</td>\n",
              "      <td>2.528788e-11</td>\n",
              "    </tr>\n",
              "    <tr>\n",
              "      <th>9998</th>\n",
              "      <td>3.277754e-27</td>\n",
              "      <td>2.224998e-29</td>\n",
              "      <td>3.365770e-24</td>\n",
              "      <td>6.870508e-16</td>\n",
              "      <td>2.159863e-18</td>\n",
              "      <td>1.000000e+00</td>\n",
              "      <td>3.602405e-21</td>\n",
              "      <td>4.189051e-19</td>\n",
              "      <td>5.526113e-14</td>\n",
              "      <td>9.673501e-11</td>\n",
              "    </tr>\n",
              "    <tr>\n",
              "      <th>9999</th>\n",
              "      <td>1.806423e-11</td>\n",
              "      <td>2.491460e-22</td>\n",
              "      <td>2.201044e-17</td>\n",
              "      <td>1.394762e-19</td>\n",
              "      <td>2.008673e-14</td>\n",
              "      <td>6.877769e-09</td>\n",
              "      <td>1.000000e+00</td>\n",
              "      <td>5.981884e-28</td>\n",
              "      <td>5.413170e-12</td>\n",
              "      <td>1.498084e-21</td>\n",
              "    </tr>\n",
              "  </tbody>\n",
              "</table>\n",
              "<p>10000 rows × 10 columns</p>\n",
              "</div>"
            ],
            "text/plain": [
              "                 0             1  ...             8             9\n",
              "0     8.327863e-21  5.579035e-10  ...  1.589753e-12  1.093798e-09\n",
              "1     2.729155e-19  6.040607e-14  ...  3.536597e-22  8.398071e-23\n",
              "2     1.508319e-14  9.999998e-01  ...  1.481595e-08  3.916479e-10\n",
              "3     9.999985e-01  2.303715e-18  ...  7.002119e-12  1.386858e-10\n",
              "4     5.377885e-13  2.021620e-10  ...  1.482408e-08  3.993543e-04\n",
              "...            ...           ...  ...           ...           ...\n",
              "9995  9.447169e-24  1.364602e-12  ...  1.825826e-21  4.240878e-23\n",
              "9996  9.103831e-21  6.801298e-13  ...  1.102786e-14  7.294611e-17\n",
              "9997  1.034949e-29  6.108519e-16  ...  5.650100e-17  2.528788e-11\n",
              "9998  3.277754e-27  2.224998e-29  ...  5.526113e-14  9.673501e-11\n",
              "9999  1.806423e-11  2.491460e-22  ...  5.413170e-12  1.498084e-21\n",
              "\n",
              "[10000 rows x 10 columns]"
            ]
          },
          "metadata": {
            "tags": []
          },
          "execution_count": 87
        }
      ]
    },
    {
      "cell_type": "code",
      "metadata": {
        "id": "mbitr0ea434j",
        "colab_type": "code",
        "colab": {}
      },
      "source": [
        "prediction = np.argmax(prediction, axis=1)"
      ],
      "execution_count": 0,
      "outputs": []
    },
    {
      "cell_type": "code",
      "metadata": {
        "id": "9M_CkvX24_HA",
        "colab_type": "code",
        "outputId": "1cbf8e93-bbe2-4eea-f5e0-a5814b090fb7",
        "colab": {
          "base_uri": "https://localhost:8080/",
          "height": 34
        }
      },
      "source": [
        "prediction.shape"
      ],
      "execution_count": 0,
      "outputs": [
        {
          "output_type": "execute_result",
          "data": {
            "text/plain": [
              "(10000,)"
            ]
          },
          "metadata": {
            "tags": []
          },
          "execution_count": 89
        }
      ]
    },
    {
      "cell_type": "code",
      "metadata": {
        "id": "vtqeJSWy4aYW",
        "colab_type": "code",
        "outputId": "9d1b2025-5414-4a39-a0b9-ec2df97a06f6",
        "colab": {
          "base_uri": "https://localhost:8080/",
          "height": 402
        }
      },
      "source": [
        "pd.DataFrame(prediction)"
      ],
      "execution_count": 0,
      "outputs": [
        {
          "output_type": "execute_result",
          "data": {
            "text/html": [
              "<div>\n",
              "<style scoped>\n",
              "    .dataframe tbody tr th:only-of-type {\n",
              "        vertical-align: middle;\n",
              "    }\n",
              "\n",
              "    .dataframe tbody tr th {\n",
              "        vertical-align: top;\n",
              "    }\n",
              "\n",
              "    .dataframe thead th {\n",
              "        text-align: right;\n",
              "    }\n",
              "</style>\n",
              "<table border=\"1\" class=\"dataframe\">\n",
              "  <thead>\n",
              "    <tr style=\"text-align: right;\">\n",
              "      <th></th>\n",
              "      <th>0</th>\n",
              "    </tr>\n",
              "  </thead>\n",
              "  <tbody>\n",
              "    <tr>\n",
              "      <th>0</th>\n",
              "      <td>7</td>\n",
              "    </tr>\n",
              "    <tr>\n",
              "      <th>1</th>\n",
              "      <td>2</td>\n",
              "    </tr>\n",
              "    <tr>\n",
              "      <th>2</th>\n",
              "      <td>1</td>\n",
              "    </tr>\n",
              "    <tr>\n",
              "      <th>3</th>\n",
              "      <td>0</td>\n",
              "    </tr>\n",
              "    <tr>\n",
              "      <th>4</th>\n",
              "      <td>4</td>\n",
              "    </tr>\n",
              "    <tr>\n",
              "      <th>...</th>\n",
              "      <td>...</td>\n",
              "    </tr>\n",
              "    <tr>\n",
              "      <th>9995</th>\n",
              "      <td>2</td>\n",
              "    </tr>\n",
              "    <tr>\n",
              "      <th>9996</th>\n",
              "      <td>3</td>\n",
              "    </tr>\n",
              "    <tr>\n",
              "      <th>9997</th>\n",
              "      <td>4</td>\n",
              "    </tr>\n",
              "    <tr>\n",
              "      <th>9998</th>\n",
              "      <td>5</td>\n",
              "    </tr>\n",
              "    <tr>\n",
              "      <th>9999</th>\n",
              "      <td>6</td>\n",
              "    </tr>\n",
              "  </tbody>\n",
              "</table>\n",
              "<p>10000 rows × 1 columns</p>\n",
              "</div>"
            ],
            "text/plain": [
              "      0\n",
              "0     7\n",
              "1     2\n",
              "2     1\n",
              "3     0\n",
              "4     4\n",
              "...  ..\n",
              "9995  2\n",
              "9996  3\n",
              "9997  4\n",
              "9998  5\n",
              "9999  6\n",
              "\n",
              "[10000 rows x 1 columns]"
            ]
          },
          "metadata": {
            "tags": []
          },
          "execution_count": 93
        }
      ]
    },
    {
      "cell_type": "code",
      "metadata": {
        "id": "ShRdOHu86CpY",
        "colab_type": "code",
        "colab": {}
      },
      "source": [
        ""
      ],
      "execution_count": 0,
      "outputs": []
    }
  ]
}
